{
 "cells": [
  {
   "cell_type": "markdown",
   "metadata": {},
   "source": [
    "### Analyzing the Stroop Effect\n",
    "Perform the analysis in the space below. Remember to follow [the instructions](https://docs.google.com/document/d/1-OkpZLjG_kX9J6LIQ5IltsqMzVWjh36QpnP2RYpVdPU/pub?embedded=True) and review the [project rubric](https://review.udacity.com/#!/rubrics/71/view) before submitting. Once you've completed the analysis and write up, download this file as a PDF or HTML file and submit in the next section.\n",
    "\n",
    "\n",
    "(1) What is the independent variable? What is the dependent variable?"
   ]
  },
  {
   "cell_type": "markdown",
   "metadata": {},
   "source": [
    "The independent variables are the test conditions (Congurent and Incongurent). The independent variable is the time (in seconds) the participants take to name the colors of ink in the words."
   ]
  },
  {
   "cell_type": "markdown",
   "metadata": {},
   "source": [
    "(2) What is an appropriate set of hypotheses for this task? What kind of statistical test do you expect to perform? Justify your choices."
   ]
  },
  {
   "cell_type": "markdown",
   "metadata": {},
   "source": [
    "The null hypothesis $H_{0}$ is that there is no significant difference between the pediods of time the participants take to name the color, so the reaction time (RT) for congruent and incongruent words are almost the same. The alternative hypothesis $H_{1}$ is that the participants need to take more time to name the color of the ink for incongruent words, so, the average reaction time is significantly longer. μc represents the reaction time under congruent conditions and μi represents the reaction time under incongruent conditions in my formula.\n",
    "\n",
    "$H_{0}$:μi−μc=0\n",
    "\n",
    "$H_{1}$:μi−μc≠0\n",
    "\n",
    "I need to perform a dependent two-tailed t-test to analyze the reaction time of the participants under the two different conditions and test the $H_{0}$ hypothesis. Dependent test means that the same groups are tested under different conditions, on two occassions, so we work with two \"related\" groups and examine the differences between the means. The first time the participants' reaction time is tested under congruent word conditions, the second time under incongruent word conditions. \n",
    "\n",
    "I use a two-taled test. According to the null hypothesis, the dependent variables are equal under the two test conditions and we do not make any choice over the direction where the results of the second experiment take. It can be whether negative or positive, as our alternative hypothesis implies only the difference between the results. The designated significance level is α = 0.05, under that we will fail to reject the null hypothesis. \n",
    "\n",
    "Sources:\n",
    "\n",
    "https://statistics.laerd.com/statistical-guides/dependent-t-test-statistical-guide.php\n",
    "\n",
    "https://statistics.laerd.com/statistical-guides/hypothesis-testing-3.php\n"
   ]
  },
  {
   "cell_type": "markdown",
   "metadata": {},
   "source": [
    "(3) Report some descriptive statistics regarding this dataset. Include at least one measure of central tendency and at least one measure of variability. The name of the data file is 'stroopdata.csv'."
   ]
  },
  {
   "cell_type": "code",
   "execution_count": 24,
   "metadata": {},
   "outputs": [
    {
     "data": {
      "text/html": [
       "<div>\n",
       "<style>\n",
       "    .dataframe thead tr:only-child th {\n",
       "        text-align: right;\n",
       "    }\n",
       "\n",
       "    .dataframe thead th {\n",
       "        text-align: left;\n",
       "    }\n",
       "\n",
       "    .dataframe tbody tr th {\n",
       "        vertical-align: top;\n",
       "    }\n",
       "</style>\n",
       "<table border=\"1\" class=\"dataframe\">\n",
       "  <thead>\n",
       "    <tr style=\"text-align: right;\">\n",
       "      <th></th>\n",
       "      <th>Congruent</th>\n",
       "      <th>Incongruent</th>\n",
       "    </tr>\n",
       "  </thead>\n",
       "  <tbody>\n",
       "    <tr>\n",
       "      <th>0</th>\n",
       "      <td>12.079</td>\n",
       "      <td>19.278</td>\n",
       "    </tr>\n",
       "    <tr>\n",
       "      <th>1</th>\n",
       "      <td>16.791</td>\n",
       "      <td>18.741</td>\n",
       "    </tr>\n",
       "    <tr>\n",
       "      <th>2</th>\n",
       "      <td>9.564</td>\n",
       "      <td>21.214</td>\n",
       "    </tr>\n",
       "    <tr>\n",
       "      <th>3</th>\n",
       "      <td>8.630</td>\n",
       "      <td>15.687</td>\n",
       "    </tr>\n",
       "    <tr>\n",
       "      <th>4</th>\n",
       "      <td>14.669</td>\n",
       "      <td>22.803</td>\n",
       "    </tr>\n",
       "  </tbody>\n",
       "</table>\n",
       "</div>"
      ],
      "text/plain": [
       "   Congruent  Incongruent\n",
       "0     12.079       19.278\n",
       "1     16.791       18.741\n",
       "2      9.564       21.214\n",
       "3      8.630       15.687\n",
       "4     14.669       22.803"
      ]
     },
     "execution_count": 24,
     "metadata": {},
     "output_type": "execute_result"
    }
   ],
   "source": [
    "import pandas as pd\n",
    "import numpy as np\n",
    "import matplotlib.pyplot as plt\n",
    "import statistics\n",
    "%matplotlib inline\n",
    "\n",
    "df = pd.read_csv('stroopdata.csv')\n",
    "df.head()"
   ]
  },
  {
   "cell_type": "markdown",
   "metadata": {},
   "source": [
    "I calculated the means of reaction time for Congruent and Incongruent test conditions."
   ]
  },
  {
   "cell_type": "code",
   "execution_count": 25,
   "metadata": {},
   "outputs": [
    {
     "name": "stdout",
     "output_type": "stream",
     "text": [
      "14.051125\n"
     ]
    }
   ],
   "source": [
    "congruent_mean = df['Congruent'].mean()\n",
    "print(congruent_mean)"
   ]
  },
  {
   "cell_type": "code",
   "execution_count": 26,
   "metadata": {},
   "outputs": [
    {
     "name": "stdout",
     "output_type": "stream",
     "text": [
      "22.0159166667\n"
     ]
    }
   ],
   "source": [
    "incongruent_mean = df['Incongruent'].mean()\n",
    "print(incongruent_mean)"
   ]
  },
  {
   "cell_type": "markdown",
   "metadata": {},
   "source": [
    "I calculated the standard deviation of reaction time for Congruent and Incongruent test conditions. I used Python's statistics module to get the sample standard deviation.\n",
    "\n",
    "Source: https://docs.python.org/3/library/statistics.html"
   ]
  },
  {
   "cell_type": "code",
   "execution_count": 27,
   "metadata": {},
   "outputs": [
    {
     "name": "stdout",
     "output_type": "stream",
     "text": [
      "3.5593579576451955\n"
     ]
    }
   ],
   "source": [
    "congruent_list = df['Congruent']\n",
    "\n",
    "sample_std_con = statistics.stdev(congruent_list)\n",
    "\n",
    "print(sample_std_con)"
   ]
  },
  {
   "cell_type": "code",
   "execution_count": 28,
   "metadata": {},
   "outputs": [
    {
     "name": "stdout",
     "output_type": "stream",
     "text": [
      "4.7970571224691385\n"
     ]
    }
   ],
   "source": [
    "incongruent_list = df['Incongruent']\n",
    "\n",
    "sample_std_incon = statistics.stdev(incongruent_list)\n",
    "\n",
    "print(sample_std_incon)"
   ]
  },
  {
   "cell_type": "markdown",
   "metadata": {},
   "source": [
    "I calculated the sample variance of reaction time for Congruent and Incongruent test conditions. I used Python's statistics module to get the sample variance."
   ]
  },
  {
   "cell_type": "code",
   "execution_count": 29,
   "metadata": {},
   "outputs": [
    {
     "data": {
      "text/plain": [
       "12.669029070652176"
      ]
     },
     "execution_count": 29,
     "metadata": {},
     "output_type": "execute_result"
    }
   ],
   "source": [
    "statistics.variance(congruent_list)"
   ]
  },
  {
   "cell_type": "code",
   "execution_count": 30,
   "metadata": {},
   "outputs": [
    {
     "data": {
      "text/plain": [
       "23.011757036231888"
      ]
     },
     "execution_count": 30,
     "metadata": {},
     "output_type": "execute_result"
    }
   ],
   "source": [
    "statistics.variance(incongruent_list)"
   ]
  },
  {
   "cell_type": "markdown",
   "metadata": {},
   "source": [
    "I also calculated the difference of avareges to get the observed difference between the two test cases."
   ]
  },
  {
   "cell_type": "code",
   "execution_count": 31,
   "metadata": {},
   "outputs": [
    {
     "name": "stdout",
     "output_type": "stream",
     "text": [
      "7.96479166667\n"
     ]
    }
   ],
   "source": [
    "obs_diff_mean = incongruent_mean - congruent_mean\n",
    "print(obs_diff_mean)"
   ]
  },
  {
   "cell_type": "markdown",
   "metadata": {},
   "source": [
    "(4) Provide one or two visualizations that show the distribution of the sample data. Write one or two sentences noting what you observe about the plot or plots."
   ]
  },
  {
   "cell_type": "markdown",
   "metadata": {},
   "source": [
    "At first I made a visualization about the ditribution of the reaction times for congruent and incongruent condition. I used the congruent_list and incongruent_list variables. According to my results, the reaction time can be longer under incongruent word conditions."
   ]
  },
  {
   "cell_type": "code",
   "execution_count": 32,
   "metadata": {},
   "outputs": [
    {
     "data": {
      "image/png": "[encoded data removed]",
      "text/plain": [
       "<matplotlib.figure.Figure at 0x7f660488ec88>"
      ]
     },
     "metadata": {},
     "output_type": "display_data"
    }
   ],
   "source": [
    "plt.hist(congruent_list, alpha=0.8, label='RT for Congruent Words')\n",
    "plt.hist(incongruent_list, alpha=0.8, label='RT for Incongruent Words')\n",
    "plt.xlabel('Reaction Time (Seconds)')\n",
    "plt.ylabel('Number of Participants')\n",
    "plt.title('Distribution of RT')\n",
    "plt.legend(loc='upper right')\n",
    "plt.show()"
   ]
  },
  {
   "cell_type": "markdown",
   "metadata": {},
   "source": [
    "I made a linechart about the differences of patricipants' reaction time under congruent and incongruent conditions. Based on my visualisation, the rougly estimated differences are between 2 and 22 seconds. The diagram indicates that there is a significant difference between the participants' reaction times under the two conditions so I expect that after further analysis we should reject the null hypothesis. Moreover, another significant difference can be observed if we compare each partisipant's performances one by one, which indicates a bigger variance."
   ]
  },
  {
   "cell_type": "code",
   "execution_count": 33,
   "metadata": {},
   "outputs": [
    {
     "data": {
      "text/plain": [
       "[<matplotlib.lines.Line2D at 0x7f660486ecc0>]"
      ]
     },
     "execution_count": 33,
     "metadata": {},
     "output_type": "execute_result"
    },
    {
     "data": {
      "image/png": "[encoded data removed]",
      "text/plain": [
       "<matplotlib.figure.Figure at 0x7f66048503c8>"
      ]
     },
     "metadata": {},
     "output_type": "display_data"
    }
   ],
   "source": [
    "# plot the differences between the average reaction time\n",
    "\n",
    "difference = df['Incongruent'] - df['Congruent']\n",
    "plt.plot(difference, color='blue', linestyle = 'dashdot')"
   ]
  },
  {
   "cell_type": "markdown",
   "metadata": {},
   "source": [
    "(5) Now, perform the statistical test and report the results. What is the confidence level and your critical statistic value? Do you reject the null hypothesis or fail to reject it? Come to a conclusion in terms of the experiment task. Did the results match up with your expectations?"
   ]
  },
  {
   "cell_type": "markdown",
   "metadata": {},
   "source": [
    "I bootstrapped the differences of means for congruent and incongruent word conditions to get normally disributed values for further analysis."
   ]
  },
  {
   "cell_type": "code",
   "execution_count": 10,
   "metadata": {},
   "outputs": [],
   "source": [
    "diffs = []\n",
    "\n",
    "for i in range(10000):\n",
    "    sample = df.sample(df.shape[0], replace = True)\n",
    "    incon_sample = sample['Incongruent'].mean()\n",
    "    con_sample = sample['Congruent'].mean()\n",
    "    diff = incon_sample - con_sample\n",
    "    diffs.append(diff)"
   ]
  },
  {
   "cell_type": "markdown",
   "metadata": {},
   "source": [
    "I made a histogram about the differences just to take a quick look at the distribution and the mean. The mean value of my histogram is about 8 and I can hardly see any value around 0."
   ]
  },
  {
   "cell_type": "code",
   "execution_count": 11,
   "metadata": {},
   "outputs": [
    {
     "data": {
      "text/plain": [
       "Text(0.5,1,'Distribution of Reaction Time')"
      ]
     },
     "execution_count": 11,
     "metadata": {},
     "output_type": "execute_result"
    },
    {
     "data": {
      "image/png": "[encoded data removed]",
      "text/plain": [
       "<matplotlib.figure.Figure at 0x7f47e0272518>"
      ]
     },
     "metadata": {},
     "output_type": "display_data"
    }
   ],
   "source": [
    "diffs_arr = np.asarray(diffs)\n",
    "\n",
    "plt.hist(diffs_arr)\n",
    "plt.xlabel('Reaction Time (Seconds)')\n",
    "plt.ylabel('Number of Participants')\n",
    "plt.title('Distribution of Reaction Time')"
   ]
  },
  {
   "cell_type": "markdown",
   "metadata": {},
   "source": [
    "Simulate distribution under the null hypothesis, with the size of the boostrapped differences and with the calculated standard deviation."
   ]
  },
  {
   "cell_type": "code",
   "execution_count": 12,
   "metadata": {},
   "outputs": [],
   "source": [
    "null_vals = np.random.normal(0, diffs_arr.std(), diffs_arr.size)"
   ]
  },
  {
   "cell_type": "markdown",
   "metadata": {},
   "source": [
    "I plotted the null distibution and marked the mean of the observed differences with a red line. Based on the visualisation, the observed differences are far from the differences simulated under the null hypothesis which indicates a big difference between the observed values and the values of the null hypothesis."
   ]
  },
  {
   "cell_type": "code",
   "execution_count": 14,
   "metadata": {},
   "outputs": [
    {
     "data": {
      "image/png": "[encoded data removed]",
      "text/plain": [
       "<matplotlib.figure.Figure at 0x7f47e246fa58>"
      ]
     },
     "metadata": {},
     "output_type": "display_data"
    }
   ],
   "source": [
    "plt.hist(null_vals)\n",
    "plt.axvline(x = incongruent_mean-congruent_mean, color = 'red', label = 'Observed Avg Difference')\n",
    "plt.xlabel('Reaction Time (Seconds)')\n",
    "plt.ylabel('Number of Participants')\n",
    "plt.title('Distribution of RT Under the Null')\n",
    "plt.legend()\n",
    "plt.show()"
   ]
  },
  {
   "cell_type": "code",
   "execution_count": 21,
   "metadata": {},
   "outputs": [
    {
     "data": {
      "text/plain": [
       "0.0"
      ]
     },
     "execution_count": 21,
     "metadata": {},
     "output_type": "execute_result"
    }
   ],
   "source": [
    "(null_vals > diffs_arr).mean()"
   ]
  },
  {
   "cell_type": "markdown",
   "metadata": {},
   "source": [
    "## Conclusion ##\n",
    "\n"
   ]
  },
  {
   "cell_type": "markdown",
   "metadata": {},
   "source": [
    "As a conclusion, we can state that based on our p-value calculation and the visualization, we reject the null hypothesis. The p-value is zero which is less than our significance level, indicating that there are not any values in the statistics which could match with the values generated under the null hypothesis. This also correlates with the line chart I created of the differences in the question 4 earlier. According to our observations, we can conclude that the participants' reaction time under incorgruent conditions is longer. This conclusion matches up with my expectation and also highlights some interesting parts of psychology and brain functions."
   ]
  },
  {
   "cell_type": "code",
   "execution_count": null,
   "metadata": {},
   "outputs": [],
   "source": []
  }
 ],
 "metadata": {
  "kernelspec": {
   "display_name": "Python 3",
   "language": "python",
   "name": "python3"
  },
  "language_info": {
   "codemirror_mode": {
    "name": "ipython",
    "version": 3
   },
   "file_extension": ".py",
   "mimetype": "text/x-python",
   "name": "python",
   "nbconvert_exporter": "python",
   "pygments_lexer": "ipython3",
   "version": "3.6.3"
  }
 },
 "nbformat": 4,
 "nbformat_minor": 2
}
